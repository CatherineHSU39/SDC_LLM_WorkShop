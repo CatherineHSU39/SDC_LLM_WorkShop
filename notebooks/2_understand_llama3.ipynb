{
 "cells": [
  {
   "cell_type": "markdown",
   "metadata": {},
   "source": [
    "# Understanding the LLaMA 3.1 file format\n"
   ]
  },
  {
   "cell_type": "code",
   "execution_count": 7,
   "metadata": {},
   "outputs": [
    {
     "name": "stdout",
     "output_type": "stream",
     "text": [
      "Requirement already satisfied: torch==2.6.0 in /home/a313706026/labs/SDC_LLM_Workshop/llm-anatomy/venv/lib/python3.12/site-packages (2.6.0)\n",
      "Requirement already satisfied: filelock in /home/a313706026/labs/SDC_LLM_Workshop/llm-anatomy/venv/lib/python3.12/site-packages (from torch==2.6.0) (3.18.0)\n",
      "Requirement already satisfied: typing-extensions>=4.10.0 in /home/a313706026/labs/SDC_LLM_Workshop/llm-anatomy/venv/lib/python3.12/site-packages (from torch==2.6.0) (4.13.2)\n",
      "Requirement already satisfied: networkx in /home/a313706026/labs/SDC_LLM_Workshop/llm-anatomy/venv/lib/python3.12/site-packages (from torch==2.6.0) (3.4.2)\n",
      "Requirement already satisfied: jinja2 in /home/a313706026/labs/SDC_LLM_Workshop/llm-anatomy/venv/lib/python3.12/site-packages (from torch==2.6.0) (3.1.6)\n",
      "Requirement already satisfied: fsspec in /home/a313706026/labs/SDC_LLM_Workshop/llm-anatomy/venv/lib/python3.12/site-packages (from torch==2.6.0) (2025.3.2)\n",
      "Requirement already satisfied: nvidia-cuda-nvrtc-cu12==12.4.127 in /home/a313706026/labs/SDC_LLM_Workshop/llm-anatomy/venv/lib/python3.12/site-packages (from torch==2.6.0) (12.4.127)\n",
      "Requirement already satisfied: nvidia-cuda-runtime-cu12==12.4.127 in /home/a313706026/labs/SDC_LLM_Workshop/llm-anatomy/venv/lib/python3.12/site-packages (from torch==2.6.0) (12.4.127)\n",
      "Requirement already satisfied: nvidia-cuda-cupti-cu12==12.4.127 in /home/a313706026/labs/SDC_LLM_Workshop/llm-anatomy/venv/lib/python3.12/site-packages (from torch==2.6.0) (12.4.127)\n",
      "Requirement already satisfied: nvidia-cudnn-cu12==9.1.0.70 in /home/a313706026/labs/SDC_LLM_Workshop/llm-anatomy/venv/lib/python3.12/site-packages (from torch==2.6.0) (9.1.0.70)\n",
      "Requirement already satisfied: nvidia-cublas-cu12==12.4.5.8 in /home/a313706026/labs/SDC_LLM_Workshop/llm-anatomy/venv/lib/python3.12/site-packages (from torch==2.6.0) (12.4.5.8)\n",
      "Requirement already satisfied: nvidia-cufft-cu12==11.2.1.3 in /home/a313706026/labs/SDC_LLM_Workshop/llm-anatomy/venv/lib/python3.12/site-packages (from torch==2.6.0) (11.2.1.3)\n",
      "Requirement already satisfied: nvidia-curand-cu12==10.3.5.147 in /home/a313706026/labs/SDC_LLM_Workshop/llm-anatomy/venv/lib/python3.12/site-packages (from torch==2.6.0) (10.3.5.147)\n",
      "Requirement already satisfied: nvidia-cusolver-cu12==11.6.1.9 in /home/a313706026/labs/SDC_LLM_Workshop/llm-anatomy/venv/lib/python3.12/site-packages (from torch==2.6.0) (11.6.1.9)\n",
      "Requirement already satisfied: nvidia-cusparse-cu12==12.3.1.170 in /home/a313706026/labs/SDC_LLM_Workshop/llm-anatomy/venv/lib/python3.12/site-packages (from torch==2.6.0) (12.3.1.170)\n",
      "Requirement already satisfied: nvidia-cusparselt-cu12==0.6.2 in /home/a313706026/labs/SDC_LLM_Workshop/llm-anatomy/venv/lib/python3.12/site-packages (from torch==2.6.0) (0.6.2)\n",
      "Requirement already satisfied: nvidia-nccl-cu12==2.21.5 in /home/a313706026/labs/SDC_LLM_Workshop/llm-anatomy/venv/lib/python3.12/site-packages (from torch==2.6.0) (2.21.5)\n",
      "Requirement already satisfied: nvidia-nvtx-cu12==12.4.127 in /home/a313706026/labs/SDC_LLM_Workshop/llm-anatomy/venv/lib/python3.12/site-packages (from torch==2.6.0) (12.4.127)\n",
      "Requirement already satisfied: nvidia-nvjitlink-cu12==12.4.127 in /home/a313706026/labs/SDC_LLM_Workshop/llm-anatomy/venv/lib/python3.12/site-packages (from torch==2.6.0) (12.4.127)\n",
      "Requirement already satisfied: triton==3.2.0 in /home/a313706026/labs/SDC_LLM_Workshop/llm-anatomy/venv/lib/python3.12/site-packages (from torch==2.6.0) (3.2.0)\n",
      "Requirement already satisfied: setuptools in /home/a313706026/labs/SDC_LLM_Workshop/llm-anatomy/venv/lib/python3.12/site-packages (from torch==2.6.0) (78.1.1)\n",
      "Requirement already satisfied: sympy==1.13.1 in /home/a313706026/labs/SDC_LLM_Workshop/llm-anatomy/venv/lib/python3.12/site-packages (from torch==2.6.0) (1.13.1)\n",
      "Requirement already satisfied: mpmath<1.4,>=1.1.0 in /home/a313706026/labs/SDC_LLM_Workshop/llm-anatomy/venv/lib/python3.12/site-packages (from sympy==1.13.1->torch==2.6.0) (1.3.0)\n",
      "Requirement already satisfied: MarkupSafe>=2.0 in /home/a313706026/labs/SDC_LLM_Workshop/llm-anatomy/venv/lib/python3.12/site-packages (from jinja2->torch==2.6.0) (3.0.2)\n",
      "Note: you may need to restart the kernel to use updated packages.\n"
     ]
    }
   ],
   "source": [
    "# Install dependencies\n",
    "%pip install torch==2.6.0 "
   ]
  },
  {
   "cell_type": "code",
   "execution_count": 8,
   "metadata": {},
   "outputs": [],
   "source": [
    "from os import path\n",
    "\n",
    "MODEL_PATH = \"../model\""
   ]
  },
  {
   "cell_type": "markdown",
   "metadata": {},
   "source": [
    "## Probing the model file\n"
   ]
  },
  {
   "cell_type": "code",
   "execution_count": 9,
   "metadata": {},
   "outputs": [
    {
     "name": "stdout",
     "output_type": "stream",
     "text": [
      "[\n",
      "    \"tok_embeddings.weight\",\n",
      "    \"layers.0.attention.wq.weight\",\n",
      "    \"layers.0.attention.wk.weight\",\n",
      "    \"layers.0.attention.wv.weight\",\n",
      "    \"layers.0.attention.wo.weight\",\n",
      "    \"layers.0.feed_forward.w1.weight\",\n",
      "    \"layers.0.feed_forward.w3.weight\",\n",
      "    \"layers.0.feed_forward.w2.weight\",\n",
      "    \"layers.0.attention_norm.weight\",\n",
      "    \"layers.0.ffn_norm.weight\",\n",
      "    \"layers.1.attention.wq.weight\",\n",
      "    \"layers.1.attention.wk.weight\",\n",
      "    \"layers.1.attention.wv.weight\",\n",
      "    \"layers.1.attention.wo.weight\",\n",
      "    \"layers.1.feed_forward.w1.weight\",\n",
      "    \"layers.1.feed_forward.w3.weight\",\n",
      "    \"layers.1.feed_forward.w2.weight\",\n",
      "    \"layers.1.attention_norm.weight\",\n",
      "    \"layers.1.ffn_norm.weight\",\n",
      "    \"layers.2.attention.wq.weight\"\n",
      "]\n"
     ]
    }
   ],
   "source": [
    "import torch\n",
    "import json\n",
    "\n",
    "model = torch.load(path.join(MODEL_PATH, \"consolidated.00.pth\"))\n",
    "print(json.dumps(list(model.keys())[:20], indent=4))"
   ]
  },
  {
   "cell_type": "code",
   "execution_count": 10,
   "metadata": {},
   "outputs": [
    {
     "data": {
      "text/plain": [
       "dict"
      ]
     },
     "execution_count": 10,
     "metadata": {},
     "output_type": "execute_result"
    }
   ],
   "source": [
    "type(model)"
   ]
  },
  {
   "cell_type": "code",
   "execution_count": 11,
   "metadata": {},
   "outputs": [
    {
     "data": {
      "text/plain": [
       "{'dim': 4096,\n",
       " 'n_layers': 32,\n",
       " 'n_heads': 32,\n",
       " 'n_kv_heads': 8,\n",
       " 'vocab_size': 128256,\n",
       " 'ffn_dim_multiplier': 1.3,\n",
       " 'multiple_of': 1024,\n",
       " 'norm_eps': 1e-05,\n",
       " 'rope_theta': 500000.0,\n",
       " 'use_scaled_rope': True}"
      ]
     },
     "execution_count": 11,
     "metadata": {},
     "output_type": "execute_result"
    }
   ],
   "source": [
    "with open(path.join(MODEL_PATH, \"params.json\"), \"r\") as f:\n",
    "    model_config = json.load(f)\n",
    "model_config"
   ]
  }
 ],
 "metadata": {
  "kernelspec": {
   "display_name": "venv",
   "language": "python",
   "name": "python3"
  },
  "language_info": {
   "codemirror_mode": {
    "name": "ipython",
    "version": 3
   },
   "file_extension": ".py",
   "mimetype": "text/x-python",
   "name": "python",
   "nbconvert_exporter": "python",
   "pygments_lexer": "ipython3",
   "version": "3.12.9"
  }
 },
 "nbformat": 4,
 "nbformat_minor": 2
}
